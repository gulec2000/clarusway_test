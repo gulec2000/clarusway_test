{
 "cells": [
  {
   "cell_type": "code",
   "execution_count": 1,
   "metadata": {},
   "outputs": [
    {
     "name": "stdin",
     "output_type": "stream",
     "text": [
      "Ismini yaz: Serdar\n"
     ]
    },
    {
     "name": "stdout",
     "output_type": "stream",
     "text": [
      "Hello, Joseph! The password is : W@12\n"
     ]
    }
   ],
   "source": [
    "name = str(input('Ismini yaz:'))\n",
    "if name == 'Serdar':\n",
    "    print('Hello, Joseph! The password is : W@12')\n",
    "else:\n",
    "    print(\"Hello, Amina! See you later.\")"
   ]
  },
  {
   "cell_type": "code",
   "execution_count": 3,
   "metadata": {},
   "outputs": [
    {
     "name": "stdin",
     "output_type": "stream",
     "text": [
      "Ismini yaz: Amina\n"
     ]
    },
    {
     "name": "stdout",
     "output_type": "stream",
     "text": [
      "Hello, Amina! See you later.\n"
     ]
    }
   ],
   "source": [
    "name = str(input('Ismini yaz:'))\n",
    "if name == 'Serdar':\n",
    "    print('Hello, Joseph! The password is : W@12')\n",
    "else:\n",
    "    print(\"Hello, Amina! See you later.\")"
   ]
  },
  {
   "cell_type": "code",
   "execution_count": null,
   "metadata": {},
   "outputs": [],
   "source": []
  }
 ],
 "metadata": {
  "kernelspec": {
   "display_name": "Python 3",
   "language": "python",
   "name": "python3"
  },
  "language_info": {
   "codemirror_mode": {
    "name": "ipython",
    "version": 3
   },
   "file_extension": ".py",
   "mimetype": "text/x-python",
   "name": "python",
   "nbconvert_exporter": "python",
   "pygments_lexer": "ipython3",
   "version": "3.7.6"
  }
 },
 "nbformat": 4,
 "nbformat_minor": 4
}
