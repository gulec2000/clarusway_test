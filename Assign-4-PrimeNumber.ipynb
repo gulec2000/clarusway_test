{
 "cells": [
  {
   "cell_type": "code",
   "execution_count": 66,
   "metadata": {},
   "outputs": [
    {
     "name": "stdin",
     "output_type": "stream",
     "text": [
      "enter a number:  13\n"
     ]
    },
    {
     "name": "stdout",
     "output_type": "stream",
     "text": [
      "input →  13 ⇉ output : 13 is a prime number\n"
     ]
    }
   ],
   "source": [
    "num = int(input('enter a number: '))\n",
    "prime = True\n",
    "\n",
    "for divider in range(2, num):\n",
    "    if num % divider == 0:\n",
    "        print('input →  {0} ⇉ output : {0} is a not prime number'.format(num))\n",
    "        prime = False\n",
    "        break\n",
    "if prime == True :\n",
    "    print('input →  {0} ⇉ output : {0} is a prime number'.format(num))"
   ]
  },
  {
   "cell_type": "code",
   "execution_count": null,
   "metadata": {},
   "outputs": [],
   "source": []
  }
 ],
 "metadata": {
  "kernelspec": {
   "display_name": "Python 3",
   "language": "python",
   "name": "python3"
  },
  "language_info": {
   "codemirror_mode": {
    "name": "ipython",
    "version": 3
   },
   "file_extension": ".py",
   "mimetype": "text/x-python",
   "name": "python",
   "nbconvert_exporter": "python",
   "pygments_lexer": "ipython3",
   "version": "3.7.6"
  }
 },
 "nbformat": 4,
 "nbformat_minor": 4
}
