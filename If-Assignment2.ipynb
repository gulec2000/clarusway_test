{
 "cells": [
  {
   "cell_type": "code",
   "execution_count": 1,
   "metadata": {},
   "outputs": [
    {
     "name": "stdin",
     "output_type": "stream",
     "text": [
      "Are you a cigarette addict older than 75 years old? :  yes\n",
      "Do you have a severe chronic disease? : yes\n",
      "Is your immune system too weak? : yes\n"
     ]
    },
    {
     "name": "stdout",
     "output_type": "stream",
     "text": [
      "You are in risky group\n"
     ]
    }
   ],
   "source": [
    "a = str(input(\"Are you a cigarette addict older than 75 years old? : \"))\n",
    "c = str(input(\"Do you have a severe chronic disease? :\"))\n",
    "i = str(input(\"Is your immune system too weak? :\"))\n",
    "\n",
    "age = (a == 'yes' )\n",
    "chronic = (c == 'yes' )\n",
    "immune = (i == 'yes' )\n",
    "\n",
    "\n",
    "if a == 'yes' or c == 'yes' or i == 'yes' :\n",
    "    print(\"You are in risky group\")\n",
    "else:\n",
    "    print(\"You are not in risky group\")"
   ]
  },
  {
   "cell_type": "code",
   "execution_count": 2,
   "metadata": {},
   "outputs": [
    {
     "name": "stdin",
     "output_type": "stream",
     "text": [
      "Are you a cigarette addict older than 75 years old? :  no\n",
      "Do you have a severe chronic disease? : no\n",
      "Is your immune system too weak? : no\n"
     ]
    },
    {
     "name": "stdout",
     "output_type": "stream",
     "text": [
      "You are not in risky group\n"
     ]
    }
   ],
   "source": [
    "a = str(input(\"Are you a cigarette addict older than 75 years old? : \"))\n",
    "c = str(input(\"Do you have a severe chronic disease? :\"))\n",
    "i = str(input(\"Is your immune system too weak? :\"))\n",
    "\n",
    "age = (a == 'yes' )\n",
    "chronic = (c == 'yes' )\n",
    "immune = (i == 'yes' )\n",
    "\n",
    "\n",
    "if a == 'yes' or c == 'yes' or i == 'yes' :\n",
    "    print(\"You are in risky group\")\n",
    "else:\n",
    "    print(\"You are not in risky group\")"
   ]
  },
  {
   "cell_type": "code",
   "execution_count": null,
   "metadata": {},
   "outputs": [],
   "source": []
  }
 ],
 "metadata": {
  "kernelspec": {
   "display_name": "Python 3",
   "language": "python",
   "name": "python3"
  },
  "language_info": {
   "codemirror_mode": {
    "name": "ipython",
    "version": 3
   },
   "file_extension": ".py",
   "mimetype": "text/x-python",
   "name": "python",
   "nbconvert_exporter": "python",
   "pygments_lexer": "ipython3",
   "version": "3.7.6"
  }
 },
 "nbformat": 4,
 "nbformat_minor": 4
}
