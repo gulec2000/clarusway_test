{
 "cells": [
  {
   "cell_type": "markdown",
   "metadata": {},
   "source": [
    "# Count the number of each letter in a sentence.\n",
    "# The department you work for undertook a project construction that makes word / text analysis. You are asked to calculate the number of letters or any chars in the sentences entered under this project.\n",
    "- Write a Python program that;\n",
    "*takes a sentence from the user,\n",
    "*counts the number of each letter of the sentence,\n",
    "*collects the letters/chars as a key and the counted numbers as a value in a dictionary."
   ]
  },
  {
   "cell_type": "code",
   "execution_count": 4,
   "metadata": {},
   "outputs": [
    {
     "name": "stdin",
     "output_type": "stream",
     "text": [
      "Bir kelime yada cumle de sen söyle : baabsi mezar dikecekmiş de gelemseyeymis\n"
     ]
    },
    {
     "name": "stdout",
     "output_type": "stream",
     "text": [
      "{'b': 2, 'a': 3, 's': 3, 'i': 4, ' ': 4, 'm': 4, 'e': 8, 'z': 1, 'r': 1, 'd': 2, 'k': 2, 'c': 1, 'ş': 1, 'g': 1, 'l': 1, 'y': 2}\n"
     ]
    }
   ],
   "source": [
    "cumle = str(input('Bir kelime yada cumle de sen söyle :'))\n",
    "harf_count= {}\n",
    "for harf in cumle:\n",
    "    count = cumle.count(harf)\n",
    "    harf_count[harf] = count\n",
    "print(harf_count)"
   ]
  },
  {
   "cell_type": "markdown",
   "metadata": {},
   "source": [
    "# Find the total letters in a sentence"
   ]
  },
  {
   "cell_type": "code",
   "execution_count": 8,
   "metadata": {},
   "outputs": [
    {
     "name": "stdout",
     "output_type": "stream",
     "text": [
      "40\n"
     ]
    }
   ],
   "source": [
    "count = harf_count.values()\n",
    "total_harf = sum(count)\n",
    "print(total_harf)"
   ]
  },
  {
   "cell_type": "code",
   "execution_count": null,
   "metadata": {},
   "outputs": [],
   "source": [
    "def equal(a, b, c):\n",
    "    numbers = [a, b, c]\n",
    "    res = numbers.count(max(numbers, key = numbers.count))\n",
    "    return res if res > 1 else 0"
   ]
  }
 ],
 "metadata": {
  "kernelspec": {
   "display_name": "Python 3",
   "language": "python",
   "name": "python3"
  },
  "language_info": {
   "codemirror_mode": {
    "name": "ipython",
    "version": 3
   },
   "file_extension": ".py",
   "mimetype": "text/x-python",
   "name": "python",
   "nbconvert_exporter": "python",
   "pygments_lexer": "ipython3",
   "version": "3.7.6"
  }
 },
 "nbformat": 4,
 "nbformat_minor": 4
}
